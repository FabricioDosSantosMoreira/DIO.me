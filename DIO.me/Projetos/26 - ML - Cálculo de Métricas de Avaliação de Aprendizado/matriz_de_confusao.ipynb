{
 "cells": [
  {
   "cell_type": "markdown",
   "metadata": {},
   "source": [
    "\n",
    "Neste projeto, vamos calcular as principais métricas para avaliação de modelos de classificação de dados, como acurácia, sensibilidade (recall), especificidade, precisão e F-score. Para que seja possível implementar estas funções, você deve utilizar os métodos e suas fórmulas correspondentes (Tabela 1). \n",
    "\n",
    "Para a leitura dos valores de VP, VN, FP e FN, será necessário escolher uma matriz de confusão para a base dos cálculos. Essa matriz você pode escolher de forma arbitraria, pois nosso objetivo é entender como funciona cada métrica.  \n"
   ]
  },
  {
   "cell_type": "code",
   "execution_count": null,
   "metadata": {},
   "outputs": [],
   "source": [
    "from tensorflow.keras import datasets, layers, models\n",
    "from sklearn.metrics import roc_curve, auc\n",
    "\n",
    "import matplotlib.pyplot as plt \n",
    "import tensorflow as tf\n",
    "import numpy as np\n",
    "import seaborn as sns\n",
    "import pandas as pd"
   ]
  },
  {
   "cell_type": "code",
   "execution_count": 3,
   "metadata": {},
   "outputs": [
    {
     "name": "stdout",
     "output_type": "stream",
     "text": [
      "Downloading data from https://storage.googleapis.com/tensorflow/tf-keras-datasets/mnist.npz\n",
      "\u001b[1m11490434/11490434\u001b[0m \u001b[32m━━━━━━━━━━━━━━━━━━━━\u001b[0m\u001b[37m\u001b[0m \u001b[1m3s\u001b[0m 0us/step\n"
     ]
    }
   ],
   "source": [
    "(train_images, train_labels), (test_images, test_labels) = datasets.mnist.load_data()\n",
    "\n",
    "train_images = train_images.reshape((60000, 28, 28, 1))\n",
    "test_images = test_images.reshape((10000, 28, 28, 1))\n",
    "\n",
    "train_images, test_images = train_images / 255.0, test_images / 255.0\n",
    "\n",
    "classes = [0, 1, 2, 3, 4, 5, 6, 7, 8, 9]"
   ]
  },
  {
   "cell_type": "code",
   "execution_count": 8,
   "metadata": {},
   "outputs": [],
   "source": [
    "model = models.Sequential()\n",
    "model.add(layers.Conv2D(32, (3, 3), activation='relu', input_shape=(28, 28, 1)))\n",
    "model.add(layers.MaxPooling2D((2, 2)))\n",
    "model.add(layers.Conv2D(64, (3, 3), activation='relu'))\n",
    "model.add(layers.MaxPooling2D((2, 2)))\n",
    "model.add(layers.Conv2D(64, (3, 3), activation='relu'))\n",
    "model.add(layers.Flatten())\n",
    "model.add(layers.Dense(64, activation='relu'))\n",
    "model.add(layers.Dense(10, activation='softmax'))"
   ]
  },
  {
   "cell_type": "code",
   "execution_count": 9,
   "metadata": {},
   "outputs": [],
   "source": [
    "tensorflow_callback = tf.keras.callbacks.TensorBoard('./logs', histogram_freq=1)"
   ]
  },
  {
   "cell_type": "code",
   "execution_count": 12,
   "metadata": {},
   "outputs": [],
   "source": [
    "model.compile(\n",
    "    optimizer='adam',\n",
    "    loss='sparse_categorical_crossentropy',\n",
    "    metrics=['accuracy']\n",
    ")"
   ]
  },
  {
   "cell_type": "code",
   "execution_count": 13,
   "metadata": {},
   "outputs": [
    {
     "name": "stdout",
     "output_type": "stream",
     "text": [
      "Epoch 1/10\n",
      "\u001b[1m1875/1875\u001b[0m \u001b[32m━━━━━━━━━━━━━━━━━━━━\u001b[0m\u001b[37m\u001b[0m \u001b[1m127s\u001b[0m 65ms/step - accuracy: 0.8935 - loss: 0.3345 - val_accuracy: 0.9844 - val_loss: 0.0493\n",
      "Epoch 2/10\n",
      "\u001b[1m1875/1875\u001b[0m \u001b[32m━━━━━━━━━━━━━━━━━━━━\u001b[0m\u001b[37m\u001b[0m \u001b[1m185s\u001b[0m 88ms/step - accuracy: 0.9850 - loss: 0.0500 - val_accuracy: 0.9872 - val_loss: 0.0390\n",
      "Epoch 3/10\n",
      "\u001b[1m1875/1875\u001b[0m \u001b[32m━━━━━━━━━━━━━━━━━━━━\u001b[0m\u001b[37m\u001b[0m \u001b[1m164s\u001b[0m 67ms/step - accuracy: 0.9901 - loss: 0.0325 - val_accuracy: 0.9858 - val_loss: 0.0438\n",
      "Epoch 4/10\n",
      "\u001b[1m1875/1875\u001b[0m \u001b[32m━━━━━━━━━━━━━━━━━━━━\u001b[0m\u001b[37m\u001b[0m \u001b[1m126s\u001b[0m 67ms/step - accuracy: 0.9914 - loss: 0.0253 - val_accuracy: 0.9906 - val_loss: 0.0340\n",
      "Epoch 5/10\n",
      "\u001b[1m1875/1875\u001b[0m \u001b[32m━━━━━━━━━━━━━━━━━━━━\u001b[0m\u001b[37m\u001b[0m \u001b[1m122s\u001b[0m 65ms/step - accuracy: 0.9933 - loss: 0.0203 - val_accuracy: 0.9921 - val_loss: 0.0306\n",
      "Epoch 6/10\n",
      "\u001b[1m1875/1875\u001b[0m \u001b[32m━━━━━━━━━━━━━━━━━━━━\u001b[0m\u001b[37m\u001b[0m \u001b[1m143s\u001b[0m 65ms/step - accuracy: 0.9953 - loss: 0.0144 - val_accuracy: 0.9911 - val_loss: 0.0375\n",
      "Epoch 7/10\n",
      "\u001b[1m1875/1875\u001b[0m \u001b[32m━━━━━━━━━━━━━━━━━━━━\u001b[0m\u001b[37m\u001b[0m \u001b[1m137s\u001b[0m 62ms/step - accuracy: 0.9962 - loss: 0.0109 - val_accuracy: 0.9915 - val_loss: 0.0293\n",
      "Epoch 8/10\n",
      "\u001b[1m1875/1875\u001b[0m \u001b[32m━━━━━━━━━━━━━━━━━━━━\u001b[0m\u001b[37m\u001b[0m \u001b[1m113s\u001b[0m 60ms/step - accuracy: 0.9961 - loss: 0.0124 - val_accuracy: 0.9912 - val_loss: 0.0309\n",
      "Epoch 9/10\n",
      "\u001b[1m1875/1875\u001b[0m \u001b[32m━━━━━━━━━━━━━━━━━━━━\u001b[0m\u001b[37m\u001b[0m \u001b[1m144s\u001b[0m 77ms/step - accuracy: 0.9976 - loss: 0.0072 - val_accuracy: 0.9923 - val_loss: 0.0323\n",
      "Epoch 10/10\n",
      "\u001b[1m1875/1875\u001b[0m \u001b[32m━━━━━━━━━━━━━━━━━━━━\u001b[0m\u001b[37m\u001b[0m \u001b[1m181s\u001b[0m 65ms/step - accuracy: 0.9978 - loss: 0.0070 - val_accuracy: 0.9915 - val_loss: 0.0365\n"
     ]
    },
    {
     "data": {
      "text/plain": [
       "<keras.src.callbacks.history.History at 0x1a13fc867b0>"
      ]
     },
     "execution_count": 13,
     "metadata": {},
     "output_type": "execute_result"
    }
   ],
   "source": [
    "model.fit(\n",
    "    x=train_images,\n",
    "    y=train_labels,\n",
    "    epochs=10,\n",
    "    validation_data=(test_images, test_labels)\n",
    ")"
   ]
  },
  {
   "cell_type": "code",
   "execution_count": 19,
   "metadata": {},
   "outputs": [
    {
     "name": "stdout",
     "output_type": "stream",
     "text": [
      "\u001b[1m313/313\u001b[0m \u001b[32m━━━━━━━━━━━━━━━━━━━━\u001b[0m\u001b[37m\u001b[0m \u001b[1m12s\u001b[0m 38ms/step\n"
     ]
    }
   ],
   "source": [
    "y_true= test_labels\n",
    "y_pred = np.argmax(model.predict(test_images), axis=-1)"
   ]
  },
  {
   "cell_type": "code",
   "execution_count": 21,
   "metadata": {},
   "outputs": [],
   "source": [
    "classes = [0, 1, 2, 3, 4, 5, 6, 7, 8, 9]\n",
    "\n",
    "con_mat = tf.math.confusion_matrix(labels=y_true, predictions=y_pred).numpy()\n",
    "con_mat_norm = np.around(con_mat.astype('float') / con_mat.sum(axis=1)[:, np.newaxis], decimals=2)\n",
    "con_mat_df = pd.DataFrame(con_mat_norm, index=classes, columns=classes)"
   ]
  },
  {
   "cell_type": "code",
   "execution_count": 22,
   "metadata": {},
   "outputs": [
    {
     "data": {
      "image/png": "[encoded data removed]",
      "text/plain": [
       "<Figure size 800x800 with 2 Axes>"
      ]
     },
     "metadata": {},
     "output_type": "display_data"
    }
   ],
   "source": [
    "figure = plt.figure(figsize=(8, 8))\n",
    "sns.heatmap(con_mat_df, annot=True, cmap=plt.cm.Blues)\n",
    "plt.tight_layout()\n",
    "plt.ylabel('True Label')\n",
    "plt.xlabel('Predicted Label')\n",
    "plt.show()"
   ]
  },
  {
   "cell_type": "code",
   "execution_count": 23,
   "metadata": {},
   "outputs": [
    {
     "name": "stdout",
     "output_type": "stream",
     "text": [
      "Classe 0: VP=977, VN=9016, FP=4, FN=3\n",
      "Classe 1: VP=1134, VN=8851, FP=14, FN=1\n",
      "Classe 2: VP=1024, VN=8964, FP=4, FN=8\n",
      "Classe 3: VP=1007, VN=8983, FP=7, FN=3\n",
      "Classe 4: VP=964, VN=9014, FP=4, FN=18\n",
      "Classe 5: VP=883, VN=9098, FP=10, FN=9\n",
      "Classe 6: VP=948, VN=9039, FP=3, FN=10\n",
      "Classe 7: VP=1009, VN=8967, FP=5, FN=19\n",
      "Classe 8: VP=966, VN=9016, FP=10, FN=8\n",
      "Classe 9: VP=1003, VN=8967, FP=24, FN=6\n",
      "Sensibilidade: 0.9915\n",
      "Especificidade: 0.9991\n",
      "Acurácia: 0.9983\n",
      "Precisão: 0.9915\n",
      "F-Score: 0.9915\n"
     ]
    }
   ],
   "source": [
    "\n",
    "VP = []  # Verdadeiros Positivos\n",
    "VN = []  # Verdadeiros Negativos\n",
    "FP = []  # Falsos Positivos\n",
    "FN = []  # Falsos Negativos\n",
    "\n",
    "# Calculando métricas para cada classe\n",
    "for c in range(len(classes)):\n",
    "    vp = con_mat[c, c]  # Diagonal principal\n",
    "    fp = sum(con_mat[:, c]) - vp  # Soma da coluna menos o VP\n",
    "    fn = sum(con_mat[c, :]) - vp  # Soma da linha menos o VP\n",
    "    vn = con_mat.sum() - (vp + fp + fn)  # Soma total menos os demais\n",
    "    \n",
    "    # Adicionando os valores para a classe\n",
    "    VP.append(vp)\n",
    "    VN.append(vn)\n",
    "    FP.append(fp)\n",
    "    FN.append(fn)\n",
    "\n",
    "# Exibindo resultados\n",
    "for i, c in enumerate(classes):\n",
    "    print(f\"Classe {c}: VP={VP[i]}, VN={VN[i]}, FP={FP[i]}, FN={FN[i]}\")\n",
    "\n",
    "\n",
    "# Consolidando os valores gerais\n",
    "VP_total = sum(VP)\n",
    "VN_total = sum(VN)\n",
    "FP_total = sum(FP)\n",
    "FN_total = sum(FN)\n",
    "\n",
    "# Número total de exemplos\n",
    "N = VP_total + VN_total + FP_total + FN_total\n",
    "\n",
    "sensibilidade = VP_total / (VP_total + FN_total)\n",
    "especificidade = VN_total / (VN_total + FP_total)\n",
    "acuracia = (VP_total + VN_total) / N\n",
    "precisao = VP_total / (VP_total + FP_total)\n",
    "f_score = 2 * (precisao * sensibilidade) / (precisao + sensibilidade)\n",
    "\n",
    "# Exibindo os resultados\n",
    "print(f\"Sensibilidade: {sensibilidade:.4f}\")\n",
    "print(f\"Especificidade: {especificidade:.4f}\")\n",
    "print(f\"Acurácia: {acuracia:.4f}\")\n",
    "print(f\"Precisão: {precisao:.4f}\")\n",
    "print(f\"F-Score: {f_score:.4f}\")"
   ]
  }
 ],
 "metadata": {
  "kernelspec": {
   "display_name": "base",
   "language": "python",
   "name": "python3"
  },
  "language_info": {
   "codemirror_mode": {
    "name": "ipython",
    "version": 3
   },
   "file_extension": ".py",
   "mimetype": "text/x-python",
   "name": "python",
   "nbconvert_exporter": "python",
   "pygments_lexer": "ipython3",
   "version": "3.12.7"
  }
 },
 "nbformat": 4,
 "nbformat_minor": 2
}
