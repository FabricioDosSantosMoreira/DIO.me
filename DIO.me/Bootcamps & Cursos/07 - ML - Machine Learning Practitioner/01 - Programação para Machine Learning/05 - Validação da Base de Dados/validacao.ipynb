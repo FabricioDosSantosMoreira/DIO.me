{
  "cells": [
    {
      "cell_type": "code",
      "execution_count": 1,
      "metadata": {
        "id": "DTqMKdXgckcF"
      },
      "outputs": [],
      "source": [
        "import pandas as pd\n",
        "import numpy as np\n",
        "\n",
        "import matplotlib.pyplot as plt"
      ]
    },
    {
      "cell_type": "code",
      "execution_count": 2,
      "metadata": {
        "id": "_HLCpuS-dlDq"
      },
      "outputs": [],
      "source": [
        "plt.rcParams['figure.figsize'] = (8, 8)"
      ]
    },
    {
      "cell_type": "code",
      "execution_count": 3,
      "metadata": {
        "colab": {
          "base_uri": "https://localhost:8080/",
          "height": 206
        },
        "id": "9uI582doeF2m",
        "outputId": "f7ca8180-9d87-4a3b-cd5b-48df2b75b78c"
      },
      "outputs": [
        {
          "data": {
            "text/html": [
              "<div>\n",
              "<style scoped>\n",
              "    .dataframe tbody tr th:only-of-type {\n",
              "        vertical-align: middle;\n",
              "    }\n",
              "\n",
              "    .dataframe tbody tr th {\n",
              "        vertical-align: top;\n",
              "    }\n",
              "\n",
              "    .dataframe thead th {\n",
              "        text-align: right;\n",
              "    }\n",
              "</style>\n",
              "<table border=\"1\" class=\"dataframe\">\n",
              "  <thead>\n",
              "    <tr style=\"text-align: right;\">\n",
              "      <th></th>\n",
              "      <th>x</th>\n",
              "      <th>x.1</th>\n",
              "      <th>x.2</th>\n",
              "      <th>x.3</th>\n",
              "      <th>o</th>\n",
              "      <th>o.1</th>\n",
              "      <th>x.4</th>\n",
              "      <th>o.2</th>\n",
              "      <th>o.3</th>\n",
              "      <th>positive</th>\n",
              "    </tr>\n",
              "  </thead>\n",
              "  <tbody>\n",
              "    <tr>\n",
              "      <th>0</th>\n",
              "      <td>x</td>\n",
              "      <td>x</td>\n",
              "      <td>x</td>\n",
              "      <td>x</td>\n",
              "      <td>o</td>\n",
              "      <td>o</td>\n",
              "      <td>o</td>\n",
              "      <td>x</td>\n",
              "      <td>o</td>\n",
              "      <td>positive</td>\n",
              "    </tr>\n",
              "    <tr>\n",
              "      <th>1</th>\n",
              "      <td>x</td>\n",
              "      <td>x</td>\n",
              "      <td>x</td>\n",
              "      <td>x</td>\n",
              "      <td>o</td>\n",
              "      <td>o</td>\n",
              "      <td>o</td>\n",
              "      <td>o</td>\n",
              "      <td>x</td>\n",
              "      <td>positive</td>\n",
              "    </tr>\n",
              "    <tr>\n",
              "      <th>2</th>\n",
              "      <td>x</td>\n",
              "      <td>x</td>\n",
              "      <td>x</td>\n",
              "      <td>x</td>\n",
              "      <td>o</td>\n",
              "      <td>o</td>\n",
              "      <td>o</td>\n",
              "      <td>b</td>\n",
              "      <td>b</td>\n",
              "      <td>positive</td>\n",
              "    </tr>\n",
              "    <tr>\n",
              "      <th>3</th>\n",
              "      <td>x</td>\n",
              "      <td>x</td>\n",
              "      <td>x</td>\n",
              "      <td>x</td>\n",
              "      <td>o</td>\n",
              "      <td>o</td>\n",
              "      <td>b</td>\n",
              "      <td>o</td>\n",
              "      <td>b</td>\n",
              "      <td>positive</td>\n",
              "    </tr>\n",
              "    <tr>\n",
              "      <th>4</th>\n",
              "      <td>x</td>\n",
              "      <td>x</td>\n",
              "      <td>x</td>\n",
              "      <td>x</td>\n",
              "      <td>o</td>\n",
              "      <td>o</td>\n",
              "      <td>b</td>\n",
              "      <td>b</td>\n",
              "      <td>o</td>\n",
              "      <td>positive</td>\n",
              "    </tr>\n",
              "  </tbody>\n",
              "</table>\n",
              "</div>"
            ],
            "text/plain": [
              "   x x.1 x.2 x.3  o o.1 x.4 o.2 o.3  positive\n",
              "0  x   x   x   x  o   o   o   x   o  positive\n",
              "1  x   x   x   x  o   o   o   o   x  positive\n",
              "2  x   x   x   x  o   o   o   b   b  positive\n",
              "3  x   x   x   x  o   o   b   o   b  positive\n",
              "4  x   x   x   x  o   o   b   b   o  positive"
            ]
          },
          "execution_count": 3,
          "metadata": {},
          "output_type": "execute_result"
        }
      ],
      "source": [
        "tic_tac_toe = pd.read_csv('./datasets/tic-tac-toe.csv')\n",
        "tic_tac_toe.head()"
      ]
    },
    {
      "cell_type": "code",
      "execution_count": 4,
      "metadata": {
        "colab": {
          "base_uri": "https://localhost:8080/"
        },
        "id": "eFG5Xncge_1-",
        "outputId": "8f2899bc-d53b-4553-b5be-ecab6af73f0b"
      },
      "outputs": [
        {
          "name": "stdout",
          "output_type": "stream",
          "text": [
            "Index(['x', 'x.1', 'x.2', 'x.3', 'o', 'o.1', 'x.4', 'o.2', 'o.3', 'positive'], dtype='object')\n",
            "Número de observações em comum: 46\n",
            "Distribuição em 'positive' para sample1:\n",
            "positive\n",
            "positive    128\n",
            "negative     72\n",
            "Name: count, dtype: int64\n",
            "Distribuição em 'positive' para sample2:\n",
            "positive\n",
            "positive    124\n",
            "negative     76\n",
            "Name: count, dtype: int64\n"
          ]
        }
      ],
      "source": [
        "# Cria as amostras\n",
        "sample1 = tic_tac_toe.sample(n=200, random_state=1111)\n",
        "sample2 = tic_tac_toe.sample(n=200, random_state=1171)\n",
        "\n",
        "# Imprime as chaves das colunas para verificar o nome correto\n",
        "print(sample1.keys())\n",
        "\n",
        "# Calcula e imprime o número de observações em comum entre as duas amostras\n",
        "common_observations = len([index for index in sample1.index if index in sample2.index])\n",
        "print(\"Número de observações em comum:\", common_observations)\n",
        "\n",
        "# Conta os valores na coluna correta para ambas as amostras\n",
        "print(\"Distribuição em 'positive' para sample1:\")\n",
        "print(sample1['positive'].value_counts())\n",
        "\n",
        "print(\"Distribuição em 'positive' para sample2:\")\n",
        "print(sample2['positive'].value_counts())\n"
      ]
    },
    {
      "cell_type": "code",
      "execution_count": 5,
      "metadata": {
        "colab": {
          "base_uri": "https://localhost:8080/",
          "height": 226
        },
        "id": "TP5_yn9MfGfr",
        "outputId": "66e812eb-d3b8-4599-8b0a-fe99466cf7c4"
      },
      "outputs": [
        {
          "data": {
            "text/html": [
              "<div>\n",
              "<style scoped>\n",
              "    .dataframe tbody tr th:only-of-type {\n",
              "        vertical-align: middle;\n",
              "    }\n",
              "\n",
              "    .dataframe tbody tr th {\n",
              "        vertical-align: top;\n",
              "    }\n",
              "\n",
              "    .dataframe thead th {\n",
              "        text-align: right;\n",
              "    }\n",
              "</style>\n",
              "<table border=\"1\" class=\"dataframe\">\n",
              "  <thead>\n",
              "    <tr style=\"text-align: right;\">\n",
              "      <th></th>\n",
              "      <th>competitorname</th>\n",
              "      <th>chocolate</th>\n",
              "      <th>fruity</th>\n",
              "      <th>caramel</th>\n",
              "      <th>peanutyalmondy</th>\n",
              "      <th>nougat</th>\n",
              "      <th>crispedricewafer</th>\n",
              "      <th>hard</th>\n",
              "      <th>bar</th>\n",
              "      <th>pluribus</th>\n",
              "      <th>sugarpercent</th>\n",
              "      <th>pricepercent</th>\n",
              "      <th>winpercent</th>\n",
              "    </tr>\n",
              "  </thead>\n",
              "  <tbody>\n",
              "    <tr>\n",
              "      <th>0</th>\n",
              "      <td>100 Grand</td>\n",
              "      <td>1</td>\n",
              "      <td>0</td>\n",
              "      <td>1</td>\n",
              "      <td>0</td>\n",
              "      <td>0</td>\n",
              "      <td>1</td>\n",
              "      <td>0</td>\n",
              "      <td>1</td>\n",
              "      <td>0</td>\n",
              "      <td>0.732</td>\n",
              "      <td>0.860</td>\n",
              "      <td>66.971725</td>\n",
              "    </tr>\n",
              "    <tr>\n",
              "      <th>1</th>\n",
              "      <td>3 Musketeers</td>\n",
              "      <td>1</td>\n",
              "      <td>0</td>\n",
              "      <td>0</td>\n",
              "      <td>0</td>\n",
              "      <td>1</td>\n",
              "      <td>0</td>\n",
              "      <td>0</td>\n",
              "      <td>1</td>\n",
              "      <td>0</td>\n",
              "      <td>0.604</td>\n",
              "      <td>0.511</td>\n",
              "      <td>67.602936</td>\n",
              "    </tr>\n",
              "    <tr>\n",
              "      <th>2</th>\n",
              "      <td>One dime</td>\n",
              "      <td>0</td>\n",
              "      <td>0</td>\n",
              "      <td>0</td>\n",
              "      <td>0</td>\n",
              "      <td>0</td>\n",
              "      <td>0</td>\n",
              "      <td>0</td>\n",
              "      <td>0</td>\n",
              "      <td>0</td>\n",
              "      <td>0.011</td>\n",
              "      <td>0.116</td>\n",
              "      <td>32.261086</td>\n",
              "    </tr>\n",
              "    <tr>\n",
              "      <th>3</th>\n",
              "      <td>One quarter</td>\n",
              "      <td>0</td>\n",
              "      <td>0</td>\n",
              "      <td>0</td>\n",
              "      <td>0</td>\n",
              "      <td>0</td>\n",
              "      <td>0</td>\n",
              "      <td>0</td>\n",
              "      <td>0</td>\n",
              "      <td>0</td>\n",
              "      <td>0.011</td>\n",
              "      <td>0.511</td>\n",
              "      <td>46.116505</td>\n",
              "    </tr>\n",
              "    <tr>\n",
              "      <th>4</th>\n",
              "      <td>Air Heads</td>\n",
              "      <td>0</td>\n",
              "      <td>1</td>\n",
              "      <td>0</td>\n",
              "      <td>0</td>\n",
              "      <td>0</td>\n",
              "      <td>0</td>\n",
              "      <td>0</td>\n",
              "      <td>0</td>\n",
              "      <td>0</td>\n",
              "      <td>0.906</td>\n",
              "      <td>0.511</td>\n",
              "      <td>52.341465</td>\n",
              "    </tr>\n",
              "  </tbody>\n",
              "</table>\n",
              "</div>"
            ],
            "text/plain": [
              "  competitorname  chocolate  fruity  caramel  peanutyalmondy  nougat  \\\n",
              "0      100 Grand          1       0        1               0       0   \n",
              "1   3 Musketeers          1       0        0               0       1   \n",
              "2       One dime          0       0        0               0       0   \n",
              "3    One quarter          0       0        0               0       0   \n",
              "4      Air Heads          0       1        0               0       0   \n",
              "\n",
              "   crispedricewafer  hard  bar  pluribus  sugarpercent  pricepercent  \\\n",
              "0                 1     0    1         0         0.732         0.860   \n",
              "1                 0     0    1         0         0.604         0.511   \n",
              "2                 0     0    0         0         0.011         0.116   \n",
              "3                 0     0    0         0         0.011         0.511   \n",
              "4                 0     0    0         0         0.906         0.511   \n",
              "\n",
              "   winpercent  \n",
              "0   66.971725  \n",
              "1   67.602936  \n",
              "2   32.261086  \n",
              "3   46.116505  \n",
              "4   52.341465  "
            ]
          },
          "execution_count": 5,
          "metadata": {},
          "output_type": "execute_result"
        }
      ],
      "source": [
        "candy = pd.read_csv('./datasets/candy-data.csv')\n",
        "candy.head()"
      ]
    },
    {
      "cell_type": "code",
      "execution_count": 6,
      "metadata": {
        "colab": {
          "base_uri": "https://localhost:8080/"
        },
        "id": "IBhm8cvnfIV3",
        "outputId": "0f2fe3a1-3b87-42a8-eb76-2ffab2e597e3"
      },
      "outputs": [
        {
          "name": "stdout",
          "output_type": "stream",
          "text": [
            "Number of training indices: 68\n",
            "Number of validation indices: 17\n",
            "Number of training indices: 68\n",
            "Number of validation indices: 17\n",
            "Number of training indices: 68\n",
            "Number of validation indices: 17\n",
            "Number of training indices: 68\n",
            "Number of validation indices: 17\n",
            "Number of training indices: 68\n",
            "Number of validation indices: 17\n"
          ]
        }
      ],
      "source": [
        "X = candy.drop(['competitorname', 'winpercent'], axis=1).to_numpy()\n",
        "y = candy['winpercent'].to_numpy()\n",
        "\n",
        "from sklearn.model_selection import KFold\n",
        "\n",
        "# Use KFold\n",
        "kf = KFold(n_splits=5, shuffle=True, random_state=1111)\n",
        "\n",
        "# Create splits\n",
        "splits = kf.split(X)\n",
        "\n",
        "# Print the number of indices\n",
        "for train_index, val_index in splits:\n",
        "    print(\"Number of training indices: %s\" % len(train_index))\n",
        "    print(\"Number of validation indices: %s\" % len(val_index))"
      ]
    },
    {
      "cell_type": "code",
      "execution_count": 7,
      "metadata": {
        "colab": {
          "base_uri": "https://localhost:8080/"
        },
        "id": "wOynpa98fJo8",
        "outputId": "76e17522-ae68-4306-b7be-ae2e2143b45d"
      },
      "outputs": [
        {
          "name": "stdout",
          "output_type": "stream",
          "text": [
            "Split accuracy: 150.99298148707666\n",
            "Split accuracy: 171.22206240542593\n",
            "Split accuracy: 131.72569156195593\n",
            "Split accuracy: 80.61940183841385\n",
            "Split accuracy: 221.63020627476214\n"
          ]
        }
      ],
      "source": [
        "# Create splits\n",
        "splits = kf.split(X)\n",
        "\n",
        "from sklearn.ensemble import RandomForestRegressor\n",
        "from sklearn.metrics import mean_squared_error\n",
        "\n",
        "rfc = RandomForestRegressor(n_estimators=25, random_state=1111)\n",
        "\n",
        "# Access the training and validation indices of splits\n",
        "for train_index, val_index in splits:\n",
        "    # Setup the training and validation data\n",
        "    X_train, y_train = X[train_index], y[train_index]\n",
        "    X_val, y_val = X[val_index], y[val_index]\n",
        "\n",
        "    # Fit the random forest model\n",
        "    rfc.fit(X_train, y_train)\n",
        "\n",
        "    # Make predictions, and print the accuracy\n",
        "    predictions = rfc.predict(X_val)\n",
        "    print(\"Split accuracy: \" + str(mean_squared_error(y_val, predictions)))"
      ]
    },
    {
      "cell_type": "code",
      "execution_count": 8,
      "metadata": {
        "id": "UsxzxEK4gRQN"
      },
      "outputs": [],
      "source": [
        "from sklearn.model_selection import cross_val_score\n",
        "from sklearn.ensemble import RandomForestRegressor\n",
        "from sklearn.metrics import mean_squared_error, make_scorer"
      ]
    },
    {
      "cell_type": "code",
      "execution_count": 9,
      "metadata": {
        "colab": {
          "base_uri": "https://localhost:8080/"
        },
        "id": "0DzEN5KcgW6-",
        "outputId": "42715499-a605-4684-d4e6-6ff037065d01"
      },
      "outputs": [
        {
          "name": "stdout",
          "output_type": "stream",
          "text": [
            "131.36891513918889\n",
            "The mean of the errors is: 9.513117223437908.\n",
            "The standard deviation of the errors is: 7.357256752829276.\n"
          ]
        }
      ],
      "source": [
        "rfc = RandomForestRegressor(n_estimators=25, random_state=1111)\n",
        "mse = make_scorer(mean_squared_error)\n",
        "\n",
        "# Setup cross_val_score\n",
        "cv = cross_val_score(estimator=rfc, X=X_train, y=y_train, cv=10, scoring=mse)\n",
        "\n",
        "# Print the mean error\n",
        "print(cv.mean())\n",
        "\n",
        "\n",
        "from sklearn.metrics import mean_absolute_error\n",
        "# Create scorer\n",
        "mae_scorer = make_scorer(mean_absolute_error)\n",
        "\n",
        "rfr = RandomForestRegressor(n_estimators=15, random_state=1111)\n",
        "\n",
        "# Implement LOOCV\n",
        "scores = cross_val_score(rfr, X, y, cv=85, scoring=mae_scorer)\n",
        "\n",
        "# Print the mean and standard deviation\n",
        "print(\"The mean of the errors is: %s.\" % np.mean(scores))\n",
        "print(\"The standard deviation of the errors is: %s.\" % np.std(scores))"
      ]
    }
  ],
  "metadata": {
    "colab": {
      "provenance": []
    },
    "kernelspec": {
      "display_name": "Python 3",
      "name": "python3"
    },
    "language_info": {
      "codemirror_mode": {
        "name": "ipython",
        "version": 3
      },
      "file_extension": ".py",
      "mimetype": "text/x-python",
      "name": "python",
      "nbconvert_exporter": "python",
      "pygments_lexer": "ipython3",
      "version": "3.10.0"
    }
  },
  "nbformat": 4,
  "nbformat_minor": 0
}
