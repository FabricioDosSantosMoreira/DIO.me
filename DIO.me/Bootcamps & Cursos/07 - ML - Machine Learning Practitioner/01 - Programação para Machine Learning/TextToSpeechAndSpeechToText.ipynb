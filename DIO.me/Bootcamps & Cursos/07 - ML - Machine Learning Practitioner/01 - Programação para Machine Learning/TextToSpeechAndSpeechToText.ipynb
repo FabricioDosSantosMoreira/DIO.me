{
  "nbformat": 4,
  "nbformat_minor": 0,
  "metadata": {
    "colab": {
      "provenance": []
    },
    "kernelspec": {
      "name": "python3",
      "display_name": "Python 3"
    },
    "language_info": {
      "name": "python"
    }
  },
  "cells": [
    {
      "cell_type": "code",
      "execution_count": 5,
      "metadata": {
        "id": "SP7sp-WyMkAt"
      },
      "outputs": [],
      "source": [
        "# %pip install gTTS\n",
        "\n",
        "from gtts import gTTS"
      ]
    },
    {
      "cell_type": "code",
      "source": [
        "text_to_audio = \"Hello, how are you doing today?\"\n",
        "\n",
        "language = 'en'\n",
        "\n",
        "gtts_obj = gTTS(text=text_to_audio, lang=language, slow=False)\n",
        "\n",
        "gtts_obj.save('./audio.mp3')"
      ],
      "metadata": {
        "id": "jpaEN7DkMspB"
      },
      "execution_count": 31,
      "outputs": []
    },
    {
      "cell_type": "code",
      "source": [
        "from IPython.display import Audio\n",
        "\n",
        "Audio('./audio.mp3', autoplay=True)"
      ],
      "metadata": {
        "colab": {
          "base_uri": "https://localhost:8080/",
          "height": 75
        },
        "id": "u4nfJuoDNEWh",
        "outputId": "26c82725-2b6e-4bba-f5a1-a547a88bd7c2"
      },
      "execution_count": 32,
      "outputs": [
        {
          "output_type": "execute_result",
          "data": {
            "text/plain": [
              "<IPython.lib.display.Audio object>"
            ],
            "text/html": [
              "\n",
              "                <audio  controls=\"controls\" autoplay=\"autoplay\">\n",
              "                    <source src=\"data:audio/mpeg;base64,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\" type=\"audio/mpeg\" />\n",
              "                    Your browser does not support the audio element.\n",
              "                </audio>\n",
              "              "
            ]
          },
          "metadata": {},
          "execution_count": 32
        }
      ]
    },
    {
      "cell_type": "code",
      "source": [
        "# %pip install SpeechRecognition pydub"
      ],
      "metadata": {
        "id": "Pzi0R5IJPuTO"
      },
      "execution_count": 25,
      "outputs": []
    },
    {
      "cell_type": "code",
      "source": [
        "import speech_recognition as sr\n",
        "from pydub import AudioSegment\n",
        "\n",
        "# Convert the audio file to WAV format if it's not already in that format.\n",
        "sound = AudioSegment.from_mp3(\"./audio.wav\")\n",
        "sound.export(\"audio.wav\", format=\"wav\")"
      ],
      "metadata": {
        "colab": {
          "base_uri": "https://localhost:8080/"
        },
        "id": "PfqiEnFpPlx7",
        "outputId": "d8362c28-06d1-4ead-d1ee-6bdec6c31562"
      },
      "execution_count": 33,
      "outputs": [
        {
          "output_type": "execute_result",
          "data": {
            "text/plain": [
              "<_io.BufferedRandom name='audio.wav'>"
            ]
          },
          "metadata": {},
          "execution_count": 33
        }
      ]
    },
    {
      "cell_type": "code",
      "source": [
        "# Initialize the recognizer\n",
        "r = sr.Recognizer()\n",
        "\n",
        "# Load the audio file\n",
        "with sr.AudioFile(\"audio.wav\") as source:\n",
        "    audio_data = r.record(source)\n",
        "\n",
        "# Transcribe the audio\n",
        "text = r.recognize_google(audio_data)\n",
        "\n",
        "# Print the transcribed text\n",
        "print(text)"
      ],
      "metadata": {
        "colab": {
          "base_uri": "https://localhost:8080/"
        },
        "id": "eM1JA83mPxdL",
        "outputId": "556055a5-4c92-4b99-b83b-2db8a9b70959"
      },
      "execution_count": 41,
      "outputs": [
        {
          "output_type": "stream",
          "name": "stdout",
          "text": [
            "hello how are you doing today\n"
          ]
        }
      ]
    }
  ]
}