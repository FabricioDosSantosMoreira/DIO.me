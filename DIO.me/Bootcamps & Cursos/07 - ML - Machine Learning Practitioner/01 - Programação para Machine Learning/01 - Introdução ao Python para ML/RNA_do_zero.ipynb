{
  "cells": [
    {
      "cell_type": "code",
      "execution_count": 1,
      "metadata": {
        "id": "i213Z2rnY8fW"
      },
      "outputs": [],
      "source": [
        "import torch\n",
        "import torchvision\n",
        "import numpy as np\n",
        "import torch.nn.functional as F\n",
        "import matplotlib.pyplot as plt\n",
        "\n",
        "from time import time\n",
        "from torchvision import datasets, transforms\n",
        "from torch import nn, optim"
      ]
    },
    {
      "cell_type": "code",
      "execution_count": 2,
      "metadata": {
        "id": "XYK0uNleZgqh"
      },
      "outputs": [
        {
          "name": "stdout",
          "output_type": "stream",
          "text": [
            "Downloading http://yann.lecun.com/exdb/mnist/train-images-idx3-ubyte.gz\n",
            "Failed to download (trying next):\n",
            "HTTP Error 403: Forbidden\n",
            "\n",
            "Downloading https://ossci-datasets.s3.amazonaws.com/mnist/train-images-idx3-ubyte.gz\n",
            "Downloading https://ossci-datasets.s3.amazonaws.com/mnist/train-images-idx3-ubyte.gz to C:\\Users\\fabri/.pytorch/MNIST_data/MNIST\\raw\\train-images-idx3-ubyte.gz\n"
          ]
        },
        {
          "name": "stderr",
          "output_type": "stream",
          "text": [
            "100.0%\n"
          ]
        },
        {
          "name": "stdout",
          "output_type": "stream",
          "text": [
            "Extracting C:\\Users\\fabri/.pytorch/MNIST_data/MNIST\\raw\\train-images-idx3-ubyte.gz to C:\\Users\\fabri/.pytorch/MNIST_data/MNIST\\raw\n",
            "\n",
            "Downloading http://yann.lecun.com/exdb/mnist/train-labels-idx1-ubyte.gz\n",
            "Failed to download (trying next):\n",
            "HTTP Error 403: Forbidden\n",
            "\n",
            "Downloading https://ossci-datasets.s3.amazonaws.com/mnist/train-labels-idx1-ubyte.gz\n",
            "Downloading https://ossci-datasets.s3.amazonaws.com/mnist/train-labels-idx1-ubyte.gz to C:\\Users\\fabri/.pytorch/MNIST_data/MNIST\\raw\\train-labels-idx1-ubyte.gz\n"
          ]
        },
        {
          "name": "stderr",
          "output_type": "stream",
          "text": [
            "100.0%\n"
          ]
        },
        {
          "name": "stdout",
          "output_type": "stream",
          "text": [
            "Extracting C:\\Users\\fabri/.pytorch/MNIST_data/MNIST\\raw\\train-labels-idx1-ubyte.gz to C:\\Users\\fabri/.pytorch/MNIST_data/MNIST\\raw\n",
            "\n",
            "Downloading http://yann.lecun.com/exdb/mnist/t10k-images-idx3-ubyte.gz\n",
            "Failed to download (trying next):\n",
            "HTTP Error 403: Forbidden\n",
            "\n",
            "Downloading https://ossci-datasets.s3.amazonaws.com/mnist/t10k-images-idx3-ubyte.gz\n",
            "Downloading https://ossci-datasets.s3.amazonaws.com/mnist/t10k-images-idx3-ubyte.gz to C:\\Users\\fabri/.pytorch/MNIST_data/MNIST\\raw\\t10k-images-idx3-ubyte.gz\n"
          ]
        },
        {
          "name": "stderr",
          "output_type": "stream",
          "text": [
            "100.0%\n"
          ]
        },
        {
          "name": "stdout",
          "output_type": "stream",
          "text": [
            "Extracting C:\\Users\\fabri/.pytorch/MNIST_data/MNIST\\raw\\t10k-images-idx3-ubyte.gz to C:\\Users\\fabri/.pytorch/MNIST_data/MNIST\\raw\n",
            "\n",
            "Downloading http://yann.lecun.com/exdb/mnist/t10k-labels-idx1-ubyte.gz\n",
            "Failed to download (trying next):\n",
            "HTTP Error 403: Forbidden\n",
            "\n",
            "Downloading https://ossci-datasets.s3.amazonaws.com/mnist/t10k-labels-idx1-ubyte.gz\n",
            "Downloading https://ossci-datasets.s3.amazonaws.com/mnist/t10k-labels-idx1-ubyte.gz to C:\\Users\\fabri/.pytorch/MNIST_data/MNIST\\raw\\t10k-labels-idx1-ubyte.gz\n"
          ]
        },
        {
          "name": "stderr",
          "output_type": "stream",
          "text": [
            "100.0%\n"
          ]
        },
        {
          "name": "stdout",
          "output_type": "stream",
          "text": [
            "Extracting C:\\Users\\fabri/.pytorch/MNIST_data/MNIST\\raw\\t10k-labels-idx1-ubyte.gz to C:\\Users\\fabri/.pytorch/MNIST_data/MNIST\\raw\n",
            "\n"
          ]
        }
      ],
      "source": [
        "tranform = transforms.ToTensor()  # Definindo a conversão de imagem para tensor\n",
        "\n",
        "trainset = datasets.MNIST('~/.pytorch/MNIST_data/', download=True, train=True, transform=tranform)  # Carrega a parte de treino do dataset\n",
        "trainloader = torch.utils.data.DataLoader(trainset, batch_size=64, shuffle=True)  # Cria um buffer para pegar os dados por partes\n",
        "\n",
        "valset = datasets.MNIST('~/.pytorch/MNIST_data/', download=True, train=False, transform=tranform)  # Carrega a parte de validação do dataset\n",
        "valloader = torch.utils.data.DataLoader(valset, batch_size=64, shuffle=True)  # Cria um buffer para pegar os dados por partes"
      ]
    },
    {
      "cell_type": "code",
      "execution_count": 5,
      "metadata": {
        "colab": {
          "base_uri": "https://localhost:8080/",
          "height": 447
        },
        "collapsed": true,
        "id": "j0IJX9Bcaj4N",
        "outputId": "7edb96eb-3ef7-4067-bca0-7caa7501206c"
      },
      "outputs": [
        {
          "data": {
            "text/plain": [
              "<matplotlib.image.AxesImage at 0x2ad822ea4d0>"
            ]
          },
          "execution_count": 5,
          "metadata": {},
          "output_type": "execute_result"
        },
        {
          "data": {
            "image/png": "[encoded data removed]",
            "text/plain": [
              "<Figure size 640x480 with 1 Axes>"
            ]
          },
          "metadata": {},
          "output_type": "display_data"
        }
      ],
      "source": [
        "dataiter = iter(trainloader)\n",
        "images, labels = next(dataiter)\n",
        "\n",
        "plt.imshow(images[0].numpy().squeeze(), cmap='gray_r')"
      ]
    },
    {
      "cell_type": "code",
      "execution_count": 6,
      "metadata": {
        "colab": {
          "base_uri": "https://localhost:8080/"
        },
        "id": "3NkCk8bqbMAE",
        "outputId": "6e29fdf8-b3c2-4ee2-8dfa-ef2b1ae2c65c"
      },
      "outputs": [
        {
          "name": "stdout",
          "output_type": "stream",
          "text": [
            "torch.Size([1, 28, 28])\n",
            "torch.Size([])\n"
          ]
        }
      ],
      "source": [
        "print(images[0].shape)  # Para verificar as dimensões do tensor de cada imagem\n",
        "print(labels[0].shape)  # Para verificar as dimesões do tensor de cada etiqueta"
      ]
    },
    {
      "cell_type": "code",
      "execution_count": 7,
      "metadata": {
        "id": "EXpdxwMRcIXe"
      },
      "outputs": [],
      "source": [
        "class Model(nn.Module):\n",
        "\n",
        "    def __init__(self):\n",
        "        super(Model, self).__init__()\n",
        "\n",
        "        self.linear1 = nn.Linear(28*28, 128)  # Camada de entrada, 784 neurônios que se ligam a 128\n",
        "        self.linear2 = nn.Linear(128, 64)     # Camada interna 1, 128 neurônios que se ligam a 64\n",
        "        self.linear3 = nn.Linear(64, 10)      # Camada interna 2, 64 neurônios que se ligam a 10\n",
        "\n",
        "    def forward(self, x):\n",
        "        x = F.relu(self.linear1(x))  # A função de ativação da camada de entrada para a camada interna 1\n",
        "        x = F.relu(self.linear2(x))  # A função de ativação da camada interna 1 para a camada interna 2\n",
        "        x = self.linear3(x)          # A função de ativação da camada interna 2 para a camada de saída, nesse caso f(x) = x\n",
        "\n",
        "        return F.log_softmax(x, dim=1)  # Dados utilizados para calcular a perda"
      ]
    },
    {
      "cell_type": "code",
      "execution_count": 8,
      "metadata": {
        "id": "QYclZGy8dR6X"
      },
      "outputs": [],
      "source": [
        "def treino(modelo, trainloader, device):\n",
        "\n",
        "    otimizador = optim.SGD(modelo.parameters(), lr=0.01, momentum=0.5)  # Define a política de atualização de pesos e da bias\n",
        "\n",
        "    inicio = time()\n",
        "\n",
        "    criterio = nn.NLLLoss()  # Definindo o critério para calcular a perda\n",
        "    EPOCHS = 10  # Número de epochs para rodar\n",
        "\n",
        "    modelo.train()  # Ativa o modo de trainamento do modelo\n",
        "\n",
        "    for epoch in range(EPOCHS):\n",
        "        perda_acumulada = 0\n",
        "\n",
        "        for imagens, etiquetas in trainloader:\n",
        "\n",
        "            imagens = imagens.view(imagens.shape[0], -1)  # Convertendo as imagens para vetores de 28*28 casas para ficarem compatíveis\n",
        "            otimizador.zero_grad()  # Zerando os gradientes por conta do ciclo anterior\n",
        "\n",
        "            output = modelo(imagens.to(device))  # Colocando os dados no modelo\n",
        "            perda_instantanea = criterio(output, etiquetas.to(device))  # Calculando a perda da epoch\n",
        "\n",
        "            perda_instantanea.backward()  # Calculando os gradientes\n",
        "\n",
        "            otimizador.step()  # Atualizando os pesos e bias\n",
        "\n",
        "            perda_acumulada += perda_instantanea.item()  # Acumulando a perda\n",
        "\n",
        "        print(f\"Epoch {epoch+1} - Perda resultante: {perda_acumulada/len(trainloader)}\")\n",
        "\n",
        "    print(f\"Demorou: {time() - inicio} segundo(s) para treinar.\")"
      ]
    },
    {
      "cell_type": "code",
      "execution_count": 10,
      "metadata": {
        "id": "j8bX7g3qfAjF"
      },
      "outputs": [],
      "source": [
        "def validacao(modelo, valloader, device):\n",
        "    conta_corretas, conta_todas = 0, 0\n",
        "\n",
        "    for imagens, etiquetas in valloader:\n",
        "        for i in range(len(etiquetas)):\n",
        "            img = imagens[i].view(1, 784)\n",
        "\n",
        "            with torch.no_grad():\n",
        "                logps = modelo(img.to(device))  # Output do modelo em escala logarítmica\n",
        "\n",
        "            ps = torch.exp(logps)  # Output do modelo em escala normal\n",
        "            probab = list(ps.cpu().numpy()[0])\n",
        "\n",
        "            etiqueta_pred = probab.index(max(probab))  # Convertte o tensor em um número\n",
        "            etiqueta_certa = etiquetas.numpy()[i]\n",
        "\n",
        "            if(etiqueta_certa == etiqueta_pred):  # Compara a previsão com o valor correto\n",
        "                conta_corretas += 1\n",
        "            conta_todas += 1\n",
        "\n",
        "    print(f\"Total de imagens testadas: {conta_todas}\")\n",
        "    print(f\"Total de imagens corretas: {conta_corretas}\")\n",
        "    print(f\"Porcentagem de acertos: {conta_corretas/conta_todas*100}%\")"
      ]
    },
    {
      "cell_type": "code",
      "execution_count": 11,
      "metadata": {
        "colab": {
          "base_uri": "https://localhost:8080/"
        },
        "id": "uiwTMMcsgCYJ",
        "outputId": "47b2bec3-0dae-4b5d-a63d-d2563826dbea"
      },
      "outputs": [
        {
          "data": {
            "text/plain": [
              "Model(\n",
              "  (linear1): Linear(in_features=784, out_features=128, bias=True)\n",
              "  (linear2): Linear(in_features=128, out_features=64, bias=True)\n",
              "  (linear3): Linear(in_features=64, out_features=10, bias=True)\n",
              ")"
            ]
          },
          "execution_count": 11,
          "metadata": {},
          "output_type": "execute_result"
        }
      ],
      "source": [
        "modelo = Model()\n",
        "\n",
        "device = torch.device('cuda' if torch.cuda.is_available() else 'cpu')\n",
        "modelo.to(device)"
      ]
    },
    {
      "cell_type": "code",
      "execution_count": 12,
      "metadata": {
        "colab": {
          "base_uri": "https://localhost:8080/"
        },
        "id": "K_W-c1h6g0fu",
        "outputId": "80703135-e66e-452f-c3a0-373c2e22ae8b"
      },
      "outputs": [
        {
          "name": "stdout",
          "output_type": "stream",
          "text": [
            "Epoch 1 - Perda resultante: 1.2082523286088442\n",
            "Epoch 2 - Perda resultante: 0.39160048019593713\n",
            "Epoch 3 - Perda resultante: 0.31928741000195554\n",
            "Epoch 4 - Perda resultante: 0.2793332885688683\n",
            "Epoch 5 - Perda resultante: 0.24774460734001227\n",
            "Epoch 6 - Perda resultante: 0.22171243474379912\n",
            "Epoch 7 - Perda resultante: 0.19992600421685336\n",
            "Epoch 8 - Perda resultante: 0.18180175699087095\n",
            "Epoch 9 - Perda resultante: 0.1666570276117274\n",
            "Epoch 10 - Perda resultante: 0.1534362808346494\n",
            "Demorou: 271.3968245983124 segundo(s) para treinar.\n"
          ]
        }
      ],
      "source": [
        "treino(modelo, trainloader, 'cpu')"
      ]
    },
    {
      "cell_type": "code",
      "execution_count": 13,
      "metadata": {
        "id": "ARxhkkGxgxFc"
      },
      "outputs": [
        {
          "name": "stdout",
          "output_type": "stream",
          "text": [
            "Total de imagens testadas: 10000\n",
            "Total de imagens corretas: 9567\n",
            "Porcentagem de acertos: 95.67%\n"
          ]
        }
      ],
      "source": [
        "validacao(modelo, valloader, 'cpu')"
      ]
    }
  ],
  "metadata": {
    "colab": {
      "provenance": []
    },
    "kernelspec": {
      "display_name": "Python 3",
      "name": "python3"
    },
    "language_info": {
      "codemirror_mode": {
        "name": "ipython",
        "version": 3
      },
      "file_extension": ".py",
      "mimetype": "text/x-python",
      "name": "python",
      "nbconvert_exporter": "python",
      "pygments_lexer": "ipython3",
      "version": "3.10.0"
    }
  },
  "nbformat": 4,
  "nbformat_minor": 0
}
